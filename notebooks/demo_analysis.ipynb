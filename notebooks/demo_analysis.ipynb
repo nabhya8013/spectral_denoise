{
 "cells": [
  {
   "cell_type": "code",
   "execution_count": null,
   "id": "a04ef323",
   "metadata": {
    "vscode": {
     "languageId": "plaintext"
    }
   },
   "outputs": [],
   "source": [
    "from load_qc import FTIRDataset\n",
    "from baseline import baseline_als\n",
    "from resunet_model import build_resunet\n",
    "import matplotlib.pyplot as plt\n",
    "import numpy as np\n",
    "\n",
    "dataset = FTIRDataset('data/raw')\n",
    "spectra = dataset.process_all()\n",
    "\n",
    "spec = spectra[0]\n",
    "wn = dataset.wavenumber_grid\n",
    "intensity = spec['interpolated']\n",
    "baseline, _ = baseline_als(intensity)\n",
    "\n",
    "plt.plot(wn, intensity, label='Raw')\n",
    "plt.plot(wn, baseline, label='Baseline')\n",
    "plt.xlabel('Wavenumber (cm⁻¹)')\n",
    "plt.ylabel('Intensity')\n",
    "plt.legend()\n",
    "plt.show()\n"
   ]
  }
 ],
 "metadata": {
  "language_info": {
   "name": "python"
  }
 },
 "nbformat": 4,
 "nbformat_minor": 5
}
